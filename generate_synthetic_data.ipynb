{
 "cells": [
  {
   "cell_type": "code",
   "execution_count": 14,
   "metadata": {},
   "outputs": [],
   "source": [
    "queries = [\n",
    "    \"Please pull up contact details for {first_name} {last_name}, their email is {email} and phone number is {mobile}.\",\n",
    "    \"Could you fetch the information on {first_name} {last_name}? The email I have for them is {email} and their mobile is {mobile}.\",\n",
    "    \"I need data on {first_name} {last_name}, who uses the email {email} and phone {mobile}.\",\n",
    "    \"I'm searching for {first_name} {last_name}, they can be reached at {email} and {mobile}.\",\n",
    "    \"Find the contact information for {first_name} {last_name}. The contact email is {email} and phone is {mobile}.\",\n",
    "    \"Retrieve contact information for {first_name} {last_name}. The email on record is {email}, and their mobile is {mobile}.\",\n",
    "    \"Kindly get me the details for {first_name} {last_name}. I have their email as {email} and mobile as {mobile}.\",\n",
    "    \"Show me the information for {first_name} {last_name}. Their contact email is {email} and their mobile number is {mobile}.\",\n",
    "    \"I require information on {first_name} {last_name}. The email address is {email} and their mobile is {mobile}.\",\n",
    "    \"Can I get the details for {first_name} {last_name}? They use {email} for email and {mobile} for mobile.\",\n",
    "    \"Need to look up the contact info for {first_name} {last_name}, they have the email {email} and phone {mobile}.\",\n",
    "    \"Help me find the information on {first_name} {last_name}. They use the email {email} and phone {mobile}.\",\n",
    "    \"What's the contact detail of {first_name} {last_name}? They use {email} and their mobile is {mobile}.\",\n",
    "    \"We need the contact details for {first_name} {last_name}. They can be reached at {email} or {mobile}.\",\n",
    "    \"Fetch the contact details of {first_name} {last_name}. You can contact them through {email} or their phone {mobile}.\",\n",
    "    \"Look up the information for {first_name} {last_name}. Their primary contact is {email} and their phone number is {mobile}.\",\n",
    "    \"Can you find the data for {first_name} {last_name}? Their email is {email} and they use {mobile} as their phone.\",\n",
    "    \"I'm trying to locate contact details for {first_name} {last_name}. Their email address is {email}, and they can be reached at {mobile}.\",\n",
    "    \"Seeking information for {first_name} {last_name}. The best way to contact them is either via email at {email} or their phone {mobile}.\",\n",
    "    \"Find the details for {first_name} {last_name}. They can be reached at this email: {email} and at this phone number: {mobile}.\"\n",
    "]\n"
   ]
  },
  {
   "cell_type": "code",
   "execution_count": 15,
   "metadata": {},
   "outputs": [],
   "source": [
    "import csv\n",
    "import faker\n",
    "\n",
    "# Create a Faker instance\n",
    "fake = faker.Faker()\n",
    "\n",
    "# Define a function to generate a row\n",
    "def generate_row(query_template):\n",
    "    first_name = fake.first_name()\n",
    "    last_name = fake.last_name()\n",
    "    email = fake.email()\n",
    "    phone_number = fake.phone_number()\n",
    "    query = query_template.format(first_name=first_name, last_name=last_name, email=email, mobile=phone_number)\n",
    "    return [query, email, phone_number, first_name, last_name]\n",
    "\n",
    "rows = []\n",
    "\n",
    "# Generate rows\n",
    "for query_template in queries:\n",
    "    rows.extend([generate_row(query_template) for _ in range(50)])\n",
    "\n",
    "# Write to CSV\n",
    "with open('./data/data.csv', 'w', newline='') as file:\n",
    "    writer = csv.writer(file)\n",
    "    writer.writerow([\"Query\", \"Email\", \"Mobile\", \"FirstName\", \"LastName\"])\n",
    "    writer.writerows(rows)"
   ]
  },
  {
   "cell_type": "code",
   "execution_count": 19,
   "metadata": {},
   "outputs": [
    {
     "name": "stdout",
     "output_type": "stream",
     "text": [
      "<class 'pandas.core.frame.DataFrame'>\n",
      "RangeIndex: 1000 entries, 0 to 999\n",
      "Data columns (total 5 columns):\n",
      " #   Column     Non-Null Count  Dtype \n",
      "---  ------     --------------  ----- \n",
      " 0   Query      1000 non-null   object\n",
      " 1   Email      1000 non-null   object\n",
      " 2   Mobile     1000 non-null   object\n",
      " 3   FirstName  1000 non-null   object\n",
      " 4   LastName   1000 non-null   object\n",
      "dtypes: object(5)\n",
      "memory usage: 39.2+ KB\n"
     ]
    }
   ],
   "source": [
    "import pandas as pd\n",
    "df = pd.read_csv('./data/data.csv')\n",
    "df.info()"
   ]
  },
  {
   "cell_type": "code",
   "execution_count": 20,
   "metadata": {},
   "outputs": [
    {
     "data": {
      "text/html": [
       "<div>\n",
       "<style scoped>\n",
       "    .dataframe tbody tr th:only-of-type {\n",
       "        vertical-align: middle;\n",
       "    }\n",
       "\n",
       "    .dataframe tbody tr th {\n",
       "        vertical-align: top;\n",
       "    }\n",
       "\n",
       "    .dataframe thead th {\n",
       "        text-align: right;\n",
       "    }\n",
       "</style>\n",
       "<table border=\"1\" class=\"dataframe\">\n",
       "  <thead>\n",
       "    <tr style=\"text-align: right;\">\n",
       "      <th></th>\n",
       "      <th>Query</th>\n",
       "      <th>Email</th>\n",
       "      <th>Mobile</th>\n",
       "      <th>FirstName</th>\n",
       "      <th>LastName</th>\n",
       "    </tr>\n",
       "  </thead>\n",
       "  <tbody>\n",
       "    <tr>\n",
       "      <th>0</th>\n",
       "      <td>Please pull up contact details for Sherry Tayl...</td>\n",
       "      <td>allenmarissa@example.org</td>\n",
       "      <td>(733)806-4015x707</td>\n",
       "      <td>Sherry</td>\n",
       "      <td>Taylor</td>\n",
       "    </tr>\n",
       "    <tr>\n",
       "      <th>1</th>\n",
       "      <td>Please pull up contact details for Christopher...</td>\n",
       "      <td>zmendez@example.com</td>\n",
       "      <td>(518)319-0507</td>\n",
       "      <td>Christopher</td>\n",
       "      <td>Walker</td>\n",
       "    </tr>\n",
       "    <tr>\n",
       "      <th>2</th>\n",
       "      <td>Please pull up contact details for David Robin...</td>\n",
       "      <td>stephanie52@example.org</td>\n",
       "      <td>001-197-751-2495x89864</td>\n",
       "      <td>David</td>\n",
       "      <td>Robinson</td>\n",
       "    </tr>\n",
       "    <tr>\n",
       "      <th>3</th>\n",
       "      <td>Please pull up contact details for Jon William...</td>\n",
       "      <td>jaime53@example.org</td>\n",
       "      <td>+1-172-648-1928x44276</td>\n",
       "      <td>Jon</td>\n",
       "      <td>Williams</td>\n",
       "    </tr>\n",
       "    <tr>\n",
       "      <th>4</th>\n",
       "      <td>Please pull up contact details for Lisa Thomps...</td>\n",
       "      <td>aguilarandrew@example.net</td>\n",
       "      <td>992-195-6796</td>\n",
       "      <td>Lisa</td>\n",
       "      <td>Thompson</td>\n",
       "    </tr>\n",
       "  </tbody>\n",
       "</table>\n",
       "</div>"
      ],
      "text/plain": [
       "                                               Query  \\\n",
       "0  Please pull up contact details for Sherry Tayl...   \n",
       "1  Please pull up contact details for Christopher...   \n",
       "2  Please pull up contact details for David Robin...   \n",
       "3  Please pull up contact details for Jon William...   \n",
       "4  Please pull up contact details for Lisa Thomps...   \n",
       "\n",
       "                       Email                  Mobile    FirstName  LastName  \n",
       "0   allenmarissa@example.org       (733)806-4015x707       Sherry    Taylor  \n",
       "1        zmendez@example.com           (518)319-0507  Christopher    Walker  \n",
       "2    stephanie52@example.org  001-197-751-2495x89864        David  Robinson  \n",
       "3        jaime53@example.org   +1-172-648-1928x44276          Jon  Williams  \n",
       "4  aguilarandrew@example.net            992-195-6796         Lisa  Thompson  "
      ]
     },
     "execution_count": 20,
     "metadata": {},
     "output_type": "execute_result"
    }
   ],
   "source": [
    "df.head(5)"
   ]
  },
  {
   "cell_type": "code",
   "execution_count": 18,
   "metadata": {},
   "outputs": [],
   "source": [
    "# Shuffle your DataFrame\n",
    "df = df.sample(frac=1).reset_index(drop = True)\n",
    "# Save shuffled dataframe to csv\n",
    "df.to_csv(\"./data/shuffled_data.csv\", index=False)"
   ]
  }
 ],
 "metadata": {
  "kernelspec": {
   "display_name": "alpha",
   "language": "python",
   "name": "python3"
  },
  "language_info": {
   "codemirror_mode": {
    "name": "ipython",
    "version": 3
   },
   "file_extension": ".py",
   "mimetype": "text/x-python",
   "name": "python",
   "nbconvert_exporter": "python",
   "pygments_lexer": "ipython3",
   "version": "3.9.6"
  },
  "orig_nbformat": 4
 },
 "nbformat": 4,
 "nbformat_minor": 2
}
